{
 "cells": [
  {
   "cell_type": "code",
   "execution_count": 61,
   "id": "fe18a68a",
   "metadata": {},
   "outputs": [
    {
     "name": "stdout",
     "output_type": "stream",
     "text": [
      "['T', 'h', 'e', 's', 'e', ' ', 'a', 'r', 'e', ' ', 't', 'h', 'e', ' ', 'p', 'h', 'o', 'n', 'e', ' ', 'd', ':', ' ', 'n', 'u', 'm', 'b', 'e', 'r', 's', ' ', 'a', ':', ' ', ' ', '7', '8', '7', '8', '7', '8', '7', '8', '7', '8', ' ', '9', '8', '9', '8', '7', '8', '7', '6', '5', '4', ',', ' ', 'b', '>', '>', ' ', '9', '8', '9', '8', '7', '8', '7', '6', '5', '4', ',', ' ', 'c', '(', '1', '2', '3', '4', '5', '6', '7', '8', '9', '0', ')']\n"
     ]
    }
   ],
   "source": [
    "a = 'These are the phone d: numbers a:  7878787878 9898787654, b>> 9898787654, c(1234567890)'\n",
    "\n",
    "print(list(a))"
   ]
  },
  {
   "cell_type": "code",
   "execution_count": 62,
   "id": "58fe60df",
   "metadata": {},
   "outputs": [],
   "source": [
    "c = 1\n",
    "data = ''\n",
    "for i in a:\n",
    "    try:\n",
    "        int(i)\n",
    "    except:\n",
    "        pass\n",
    "    else:\n",
    "        if c<=10:\n",
    "            data+=i\n",
    "            c+=1\n",
    "        else:\n",
    "            c = 2\n",
    "            data+=','+i"
   ]
  },
  {
   "cell_type": "code",
   "execution_count": 63,
   "id": "5075b327",
   "metadata": {},
   "outputs": [],
   "source": [
    "phone = data.split(',')"
   ]
  },
  {
   "cell_type": "code",
   "execution_count": 64,
   "id": "b365cf8e",
   "metadata": {},
   "outputs": [
    {
     "data": {
      "text/plain": [
       "['7878787878', '9898787654', '9898787654', '1234567890']"
      ]
     },
     "execution_count": 64,
     "metadata": {},
     "output_type": "execute_result"
    }
   ],
   "source": [
    "phone"
   ]
  },
  {
   "cell_type": "code",
   "execution_count": 65,
   "id": "798201dd",
   "metadata": {},
   "outputs": [],
   "source": [
    "import re\n",
    "# pattern matching\n",
    "\n",
    "# regular Expression\n",
    "\n",
    "#meta characters \n",
    "# @#$%&*-()\\?.~^<>]{}[]\\a\\d\\b\\w\\W\\\\B"
   ]
  },
  {
   "cell_type": "code",
   "execution_count": 73,
   "id": "456047b2",
   "metadata": {},
   "outputs": [
    {
     "data": {
      "text/plain": [
       "['7878787878', '9898787654', '9898787654', '1234567890']"
      ]
     },
     "execution_count": 73,
     "metadata": {},
     "output_type": "execute_result"
    }
   ],
   "source": [
    "a = 'These are the phone d: numbers a:  7878787878 9898787654, b>> 9898787654, c(1234567890)'\n",
    "\n",
    "re.findall(r'\\d{10}',a)"
   ]
  },
  {
   "cell_type": "code",
   "execution_count": 78,
   "id": "11b6a01b",
   "metadata": {},
   "outputs": [
    {
     "name": "stdout",
     "output_type": "stream",
     "text": [
      "['7878787878', '9898787654', '9898787654', '1234567890']\n"
     ]
    }
   ],
   "source": [
    "a = 'These are the phone d: numbers a:  7878787878 9898787654, b>> 9898787654, c(1234567890)'\n",
    "pt = r'\\d{10}'\n",
    "\n",
    "print(re.findall(pt,a))"
   ]
  },
  {
   "cell_type": "code",
   "execution_count": 87,
   "id": "124591ea",
   "metadata": {},
   "outputs": [
    {
     "name": "stdout",
     "output_type": "stream",
     "text": [
      "['67654', '878767654321', '7878787878', '9898787654', '9898787654', '1234567890']\n"
     ]
    }
   ],
   "source": [
    "a = 'These are the phone d: numbers 7876 a: 67654  878767654321 7878787878 9898787654, b>> 9898787654, c(1234567890)'\n",
    "pt = r'\\d{5,}'\n",
    "\n",
    "print(re.findall(pt,a))"
   ]
  },
  {
   "cell_type": "code",
   "execution_count": 94,
   "id": "194a1af9",
   "metadata": {},
   "outputs": [
    {
     "name": "stdout",
     "output_type": "stream",
     "text": [
      "['787689', '67654', '878767', '654321', '787878', '7878', '989878', '7654', '989878', '7654', '123456', '7890']\n"
     ]
    }
   ],
   "source": [
    "a = 'These are the phone d: numbers 67 7876899 a: 67654  878767654321 7878787878 9898787654, b>> 9898787654, c(1234567890)'\n",
    "pt = r'\\d{3,6}'\n",
    "\n",
    "print(re.findall(pt,a))"
   ]
  },
  {
   "cell_type": "code",
   "execution_count": 98,
   "id": "f96a57a9",
   "metadata": {},
   "outputs": [
    {
     "name": "stdout",
     "output_type": "stream",
     "text": [
      "[' ', ' ', ' ', ' ', ' ', ' ', ' ', ' ', ' ', ' ', ' ', ' ', ' ', ' ', ' ', ' ']\n"
     ]
    }
   ],
   "source": [
    "a = 'These are the phone d: numbers 67 7876899 a: 67654  878767654321 7878787878 9898787654, b>> 9898787654, c(1234567890)'\n",
    "pt = r'\\s'\n",
    "\n",
    "print(re.findall(pt,a))"
   ]
  },
  {
   "cell_type": "code",
   "execution_count": 99,
   "id": "beeecb79",
   "metadata": {},
   "outputs": [
    {
     "data": {
      "text/plain": [
       "16"
      ]
     },
     "execution_count": 99,
     "metadata": {},
     "output_type": "execute_result"
    }
   ],
   "source": [
    "a.count(' ')"
   ]
  },
  {
   "cell_type": "code",
   "execution_count": 101,
   "id": "2209313e",
   "metadata": {},
   "outputs": [
    {
     "name": "stdout",
     "output_type": "stream",
     "text": [
      "101\n"
     ]
    }
   ],
   "source": [
    "a = 'These are the phone d: numbers 67 7876899 a: 67654  878767654321 7878787878 9898787654, b>> 9898787654, c(1234567890)'\n",
    "pt = r'\\S'\n",
    "\n",
    "print(len(re.findall(pt,a)))"
   ]
  },
  {
   "cell_type": "code",
   "execution_count": 103,
   "id": "ef94f3c7",
   "metadata": {},
   "outputs": [
    {
     "data": {
      "text/plain": [
       "101"
      ]
     },
     "execution_count": 103,
     "metadata": {},
     "output_type": "execute_result"
    }
   ],
   "source": [
    "len(a)-16"
   ]
  },
  {
   "cell_type": "code",
   "execution_count": 105,
   "id": "d2144df1",
   "metadata": {},
   "outputs": [
    {
     "data": {
      "text/plain": [
       "101"
      ]
     },
     "execution_count": 105,
     "metadata": {},
     "output_type": "execute_result"
    }
   ],
   "source": [
    "len(a.replace(' ',''))"
   ]
  },
  {
   "cell_type": "code",
   "execution_count": 113,
   "id": "39c0dff1",
   "metadata": {},
   "outputs": [
    {
     "name": "stdout",
     "output_type": "stream",
     "text": [
      "['@', 'j', 'h', 'v', 'h', 'v', 'j', 'h', 'g', 'v', 'j', ' ', ' ', '^', ' ', '&', ' ', '(', ')', ' ', 'j', 'h', 'g', 'b', 'j', 'v', 'h', 'j', 'b', ' ', 'j', 'g', 'j', 'u', 'g', ' ']\n"
     ]
    }
   ],
   "source": [
    "a = '@jhvhvjhgvj 767857 ^ & () jhgbjvhjb jgjug 987'\n",
    "\n",
    "pt = r'\\D'\n",
    "\n",
    "print(re.findall(pt,a))"
   ]
  },
  {
   "cell_type": "code",
   "execution_count": 112,
   "id": "34b7a233",
   "metadata": {},
   "outputs": [
    {
     "name": "stdout",
     "output_type": "stream",
     "text": [
      "['j', 'h', 'v', 'h', 'v', 'j', 'h', 'g', 'v', 'j', '7', '6', '7', '8', '5', '7', 'j', 'h', 'g', 'b', 'j', 'v', 'h', 'j', 'b', 'j', 'g', 'j', 'u', 'g', '9', '8', '7']\n"
     ]
    }
   ],
   "source": [
    "a = '@jhvhvjhgvj ^ & ()767857 jhgbjvhjb jgjug 987'\n",
    "\n",
    "pt = r'\\w'\n",
    "\n",
    "print(re.findall(pt,a))"
   ]
  },
  {
   "cell_type": "code",
   "execution_count": 114,
   "id": "727a79ec",
   "metadata": {},
   "outputs": [
    {
     "name": "stdout",
     "output_type": "stream",
     "text": [
      "['@', ' ', '^', ' ', '&', ' ', '(', ')', ' ', ' ', ' ']\n"
     ]
    }
   ],
   "source": [
    "a = '@jhvhvjhgvj ^ & ()767857 jhgbjvhjb jgjug 987'\n",
    "\n",
    "pt = r'\\W'\n",
    "\n",
    "print(re.findall(pt,a))"
   ]
  },
  {
   "cell_type": "code",
   "execution_count": 120,
   "id": "94ca46be",
   "metadata": {},
   "outputs": [
    {
     "name": "stdout",
     "output_type": "stream",
     "text": [
      "['b', 'b', 'bo', 'bo', 'bo']\n"
     ]
    }
   ],
   "source": [
    "a = 'This is a  b bk book booook boooooooks'\n",
    "\n",
    "pt = r'bo?'\n",
    "\n",
    "print(re.findall(pt,a))"
   ]
  },
  {
   "cell_type": "code",
   "execution_count": null,
   "id": "8fc6c4d9",
   "metadata": {},
   "outputs": [],
   "source": []
  },
  {
   "cell_type": "code",
   "execution_count": 129,
   "id": "6272692d",
   "metadata": {},
   "outputs": [
    {
     "name": "stdout",
     "output_type": "stream",
     "text": [
      "['bog', 'bk', 'book', 'booook', 'boooooook', 'boook']\n"
     ]
    }
   ],
   "source": [
    "a = 'This is a  bog bk book booook boooooooks  boook'\n",
    "\n",
    "pt = r'bo*g?k?'\n",
    "\n",
    "print(re.findall(pt,a))"
   ]
  },
  {
   "cell_type": "code",
   "execution_count": 137,
   "id": "9f52fdde",
   "metadata": {},
   "outputs": [
    {
     "name": "stdout",
     "output_type": "stream",
     "text": [
      "['book', 'booook', 'boooooook', 'boook', 'booookkkk']\n"
     ]
    }
   ],
   "source": [
    "a = 'This is a  b bk book booook boooooooks  boook booookkkk'\n",
    "\n",
    "pt = r'bo+k+'\n",
    "\n",
    "print(re.findall(pt,a))"
   ]
  },
  {
   "cell_type": "markdown",
   "id": "470ff0fa",
   "metadata": {},
   "source": [
    "https://regex101.com/"
   ]
  },
  {
   "cell_type": "code",
   "execution_count": null,
   "id": "2261e740",
   "metadata": {},
   "outputs": [],
   "source": []
  }
 ],
 "metadata": {
  "kernelspec": {
   "display_name": "Python 3 (ipykernel)",
   "language": "python",
   "name": "python3"
  },
  "language_info": {
   "codemirror_mode": {
    "name": "ipython",
    "version": 3
   },
   "file_extension": ".py",
   "mimetype": "text/x-python",
   "name": "python",
   "nbconvert_exporter": "python",
   "pygments_lexer": "ipython3",
   "version": "3.11.3"
  }
 },
 "nbformat": 4,
 "nbformat_minor": 5
}
